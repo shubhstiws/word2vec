{
 "cells": [
  {
   "cell_type": "markdown",
   "metadata": {},
   "source": [
    "# Wrod2vec model trained on google news dataset \n",
    "\n",
    "#### Shubhankar Tiwari\n"
   ]
  },
  {
   "cell_type": "code",
   "execution_count": 54,
   "metadata": {
    "collapsed": true
   },
   "outputs": [],
   "source": [
    "import gensim\n",
    "\n",
    "model = gensim.models.KeyedVectors.load_word2vec_format('./data/GoogleNews-vectors-negative300.bin.gz', binary=True)"
   ]
  },
  {
   "cell_type": "markdown",
   "metadata": {},
   "source": [
    "### Check the word vector of a common word"
   ]
  },
  {
   "cell_type": "code",
   "execution_count": 55,
   "metadata": {},
   "outputs": [
    {
     "data": {
      "text/plain": [
       "(300,)"
      ]
     },
     "execution_count": 55,
     "metadata": {},
     "output_type": "execute_result"
    }
   ],
   "source": [
    "dog = model['dog']\n",
    "(dog.shape)"
   ]
  },
  {
   "cell_type": "code",
   "execution_count": 56,
   "metadata": {},
   "outputs": [
    {
     "data": {
      "text/plain": [
       "array([ 0.05126953, -0.02233887, -0.17285156,  0.16113281, -0.08447266,\n",
       "        0.05737305,  0.05859375, -0.08251953, -0.01538086, -0.06347656],\n",
       "      dtype=float32)"
      ]
     },
     "execution_count": 56,
     "metadata": {},
     "output_type": "execute_result"
    }
   ],
   "source": [
    "(dog[:10])"
   ]
  },
  {
   "cell_type": "markdown",
   "metadata": {},
   "source": [
    "### Check most similar words by specifying positives and negatives"
   ]
  },
  {
   "cell_type": "code",
   "execution_count": 57,
   "metadata": {},
   "outputs": [
    {
     "data": {
      "text/plain": [
       "[('queen', 0.7118192911148071),\n",
       " ('monarch', 0.6189674139022827),\n",
       " ('princess', 0.5902431011199951),\n",
       " ('crown_prince', 0.5499460697174072),\n",
       " ('prince', 0.5377321243286133),\n",
       " ('kings', 0.5236844420433044),\n",
       " ('Queen_Consort', 0.5235945582389832),\n",
       " ('queens', 0.518113374710083),\n",
       " ('sultan', 0.5098593235015869),\n",
       " ('monarchy', 0.5087411999702454)]"
      ]
     },
     "execution_count": 57,
     "metadata": {},
     "output_type": "execute_result"
    }
   ],
   "source": [
    "(model.most_similar(positive=['woman', 'king'], negative=['man']))"
   ]
  },
  {
   "cell_type": "code",
   "execution_count": 72,
   "metadata": {
    "scrolled": true
   },
   "outputs": [
    {
     "data": {
      "text/plain": [
       "[('queen', 0.9314123392105103),\n",
       " ('monarch', 0.858533501625061),\n",
       " ('princess', 0.8476566076278687),\n",
       " ('Queen_Consort', 0.8150269985198975),\n",
       " ('queens', 0.8099815249443054),\n",
       " ('crown_prince', 0.808997631072998),\n",
       " ('royal_palace', 0.8027306795120239),\n",
       " ('monarchy', 0.801961362361908),\n",
       " ('prince', 0.800979733467102),\n",
       " ('empress', 0.7958388328552246)]"
      ]
     },
     "execution_count": 72,
     "metadata": {},
     "output_type": "execute_result"
    }
   ],
   "source": [
    "model.most_similar_cosmul(positive=['woman', 'king'], negative=['man'])\n",
    "#Find the top-N most similar words, using the multiplicative combination objective proposed by Omer Levy and Yoav Goldberg. \n",
    "#Positive words still contribute positively towards the similarity, \n",
    "#negative words negatively, but with less susceptibility to one large distance dominating the calculation"
   ]
  },
  {
   "cell_type": "markdown",
   "metadata": {},
   "source": [
    "### Check most similar words for a proper noun"
   ]
  },
  {
   "cell_type": "code",
   "execution_count": 58,
   "metadata": {},
   "outputs": [
    {
     "data": {
      "text/plain": [
       "[('Prathamesh', 0.7386659383773804),\n",
       " ('Akshatha', 0.728675127029419),\n",
       " ('Rutuja', 0.7228821516036987),\n",
       " ('Anushree', 0.7228357791900635),\n",
       " ('Subham', 0.7221089601516724),\n",
       " ('Rishika', 0.7186915874481201),\n",
       " ('Hyd_##K', 0.7139887809753418),\n",
       " ('Aakanksha', 0.7106143236160278),\n",
       " ('Rachit', 0.7093888521194458),\n",
       " ('Uthra', 0.7090432047843933)]"
      ]
     },
     "execution_count": 58,
     "metadata": {},
     "output_type": "execute_result"
    }
   ],
   "source": [
    "model.most_similar('Shubhankar')"
   ]
  },
  {
   "cell_type": "code",
   "execution_count": 119,
   "metadata": {},
   "outputs": [
    {
     "data": {
      "text/plain": [
       "[('Alana', 0.6019689440727234),\n",
       " ('Hannah', 0.582836389541626),\n",
       " ('Olivia', 0.5792908668518066),\n",
       " ('Tessa', 0.5756932497024536),\n",
       " ('Kyla', 0.5743770599365234)]"
      ]
     },
     "execution_count": 119,
     "metadata": {},
     "output_type": "execute_result"
    }
   ],
   "source": [
    "model.similar_by_word('Kaia',topn=5)"
   ]
  },
  {
   "cell_type": "markdown",
   "metadata": {},
   "source": [
    "### Odd one out"
   ]
  },
  {
   "cell_type": "code",
   "execution_count": 59,
   "metadata": {},
   "outputs": [
    {
     "data": {
      "text/plain": [
       "'cereal'"
      ]
     },
     "execution_count": 59,
     "metadata": {},
     "output_type": "execute_result"
    }
   ],
   "source": [
    "(model.doesnt_match(\"breakfast cereal dinner lunch\".split()))"
   ]
  },
  {
   "cell_type": "code",
   "execution_count": 60,
   "metadata": {},
   "outputs": [
    {
     "data": {
      "text/plain": [
       "'Eva'"
      ]
     },
     "execution_count": 60,
     "metadata": {},
     "output_type": "execute_result"
    }
   ],
   "source": [
    "model.doesnt_match(\"Shubhankar Gaurav Ashlesh Eva\".split())"
   ]
  },
  {
   "cell_type": "markdown",
   "metadata": {},
   "source": [
    "### Similarity"
   ]
  },
  {
   "cell_type": "code",
   "execution_count": 61,
   "metadata": {},
   "outputs": [
    {
     "data": {
      "text/plain": [
       "0.7664012230995352"
      ]
     },
     "execution_count": 61,
     "metadata": {},
     "output_type": "execute_result"
    }
   ],
   "source": [
    "(model.similarity('woman', 'man'))"
   ]
  },
  {
   "cell_type": "markdown",
   "metadata": {},
   "source": [
    "### Pick the most similar word"
   ]
  },
  {
   "cell_type": "code",
   "execution_count": 68,
   "metadata": {},
   "outputs": [
    {
     "data": {
      "text/plain": [
       "'cat'"
      ]
     },
     "execution_count": 68,
     "metadata": {},
     "output_type": "execute_result"
    }
   ],
   "source": [
    "model.most_similar_to_given('dog', ['cat','horse','deer','whale','baby'])"
   ]
  },
  {
   "cell_type": "code",
   "execution_count": 69,
   "metadata": {},
   "outputs": [
    {
     "data": {
      "text/plain": [
       "['carnivores', 'meat_eater']"
      ]
     },
     "execution_count": 69,
     "metadata": {},
     "output_type": "execute_result"
    }
   ],
   "source": [
    "model.words_closer_than('carnivore', 'mammal') #Returns all words that are closer to w1 than w2 is to w1."
   ]
  },
  {
   "cell_type": "markdown",
   "metadata": {},
   "source": [
    "### Get the best 10 matches for each MSBA name"
   ]
  },
  {
   "cell_type": "code",
   "execution_count": 78,
   "metadata": {
    "collapsed": true
   },
   "outputs": [],
   "source": [
    "msba = ['John','Prathamesh','Wenhui','Yilin','Bryce','Shuyu','Aastha','Abhijit','Abhilasha','Aditya',\n",
    "        'Alexander','Aneesh','Animesh','Ankit','Ao','Aparajitha','Aravind','Archchana','Ashlesh','Astha',\n",
    "        'Badarinath','Barkha','Bekzat','Benjamin','Bhanu','Bhuvan','Bingjie','Colin','Cory','Deepak','Devansh',\n",
    "        'Disha','Gaurav','Gopi','Gowthami','Hanjing','Haoyang','Hemanth','Hui','Imran','Ishwarya','Jing','Jithin',\n",
    "        'Justin','Kaia','Katharine','Kaustubh','Kaveri','Kevin','Kruthik','Kyle','Mayank','Millee','Monica','Moumi',\n",
    "        'Mukul','Navya','Neelakanteshwar','Nicholas','Niharika','Nikhil','Peiwen','Pritheesh','Qinnan','Rachel',\n",
    "        'Ramnath','Ravi','Saketh','Saumya','Saurabh','Shipra','Shubhankar','Siddart','Srihari','Sruthi','Sumit',\n",
    "        'Suzanne','Tanya','Taraka','Tempo','Udit','Utkarsh','Varun','Vineet','Xiang','Yan','Yi','Yi-Fan','Yi-Hsiu',\n",
    "        'Yuchen','Yuwen','Yuyang','Zeyuan']\n",
    "\n",
    "#'Qinyu',\n",
    "\n",
    "d = {}\n",
    "for student in msba:\n",
    "    try:\n",
    "        temp = model.most_similar(student)\n",
    "        d[student] = temp\n",
    "    except:\n",
    "        pass"
   ]
  },
  {
   "cell_type": "markdown",
   "metadata": {},
   "source": [
    "### Filter matched names\n",
    "\n",
    "As all of the top 10 matches for each name may or may not be part of the MSBA class, I have filtered out matched names which are not a part of the MSBA class "
   ]
  },
  {
   "cell_type": "code",
   "execution_count": 92,
   "metadata": {
    "collapsed": true
   },
   "outputs": [],
   "source": [
    "dc={}\n",
    "for key, value in d.items():\n",
    "    temp = []\n",
    "    #print (value)\n",
    "    for matched_student in value:\n",
    "        #print (matched_student[0])\n",
    "        if matched_student[0] in msba: temp.append(matched_student)\n",
    "            \n",
    "    dc[key]=temp\n",
    "            "
   ]
  },
  {
   "cell_type": "markdown",
   "metadata": {},
   "source": [
    "### Results of exact matching"
   ]
  },
  {
   "cell_type": "code",
   "execution_count": 95,
   "metadata": {},
   "outputs": [
    {
     "data": {
      "text/plain": [
       "[('Gaurav', 0.7826263904571533),\n",
       " ('Nikhil', 0.7639487385749817),\n",
       " ('Deepak', 0.7515873908996582),\n",
       " ('Saurabh', 0.7394168376922607)]"
      ]
     },
     "execution_count": 95,
     "metadata": {},
     "output_type": "execute_result"
    }
   ],
   "source": [
    "dc['Mayank']"
   ]
  },
  {
   "cell_type": "code",
   "execution_count": 96,
   "metadata": {},
   "outputs": [
    {
     "name": "stderr",
     "output_type": "stream",
     "text": [
      "C:\\Users\\shubh\\Anaconda3\\envs\\tf15\\lib\\site-packages\\fuzzywuzzy\\fuzz.py:35: UserWarning: Using slow pure-python SequenceMatcher. Install python-Levenshtein to remove this warning\n",
      "  warnings.warn('Using slow pure-python SequenceMatcher. Install python-Levenshtein to remove this warning')\n"
     ]
    }
   ],
   "source": [
    "from fuzzywuzzy import fuzz\n",
    "from fuzzywuzzy import process"
   ]
  },
  {
   "cell_type": "code",
   "execution_count": 106,
   "metadata": {
    "collapsed": true
   },
   "outputs": [],
   "source": [
    "fdc={}\n",
    "for key, value in d.items():\n",
    "    temp = []\n",
    "    #print (value)\n",
    "    for matched_student in value:\n",
    "        #print (matched_student[0])\n",
    "        #if matched_student[0] in msba: temp.append(matched_student)\n",
    "        for s in msba:\n",
    "            if fuzz.ratio(matched_student[0],s) > 80:temp.append(matched_student)\n",
    "            \n",
    "    fdc[key]=temp\n",
    "            "
   ]
  },
  {
   "cell_type": "markdown",
   "metadata": {},
   "source": [
    "### Results of fuzzy matching"
   ]
  },
  {
   "cell_type": "code",
   "execution_count": 108,
   "metadata": {},
   "outputs": [
    {
     "data": {
      "text/plain": [
       "[('Rachael', 0.8424904346466064), ('Sarah', 0.8346818685531616)]"
      ]
     },
     "execution_count": 108,
     "metadata": {},
     "output_type": "execute_result"
    }
   ],
   "source": [
    "fdc['Rachel']"
   ]
  },
  {
   "cell_type": "code",
   "execution_count": 116,
   "metadata": {},
   "outputs": [
    {
     "data": {
      "text/html": [
       "<div>\n",
       "<style scoped>\n",
       "    .dataframe tbody tr th:only-of-type {\n",
       "        vertical-align: middle;\n",
       "    }\n",
       "\n",
       "    .dataframe tbody tr th {\n",
       "        vertical-align: top;\n",
       "    }\n",
       "\n",
       "    .dataframe thead th {\n",
       "        text-align: right;\n",
       "    }\n",
       "</style>\n",
       "<table border=\"1\" class=\"dataframe\">\n",
       "  <thead>\n",
       "    <tr style=\"text-align: right;\">\n",
       "      <th></th>\n",
       "      <th>0</th>\n",
       "      <th>1</th>\n",
       "      <th>2</th>\n",
       "      <th>3</th>\n",
       "    </tr>\n",
       "  </thead>\n",
       "  <tbody>\n",
       "    <tr>\n",
       "      <th>John</th>\n",
       "      <td>None</td>\n",
       "      <td>None</td>\n",
       "      <td>None</td>\n",
       "      <td>None</td>\n",
       "    </tr>\n",
       "    <tr>\n",
       "      <th>Prathamesh</th>\n",
       "      <td>(Pritesh, 0.7546816468238831)</td>\n",
       "      <td>(Sanket, 0.7507660984992981)</td>\n",
       "      <td>None</td>\n",
       "      <td>None</td>\n",
       "    </tr>\n",
       "    <tr>\n",
       "      <th>Wenhui</th>\n",
       "      <td>None</td>\n",
       "      <td>None</td>\n",
       "      <td>None</td>\n",
       "      <td>None</td>\n",
       "    </tr>\n",
       "    <tr>\n",
       "      <th>Yilin</th>\n",
       "      <td>(Yiliang, 0.5568621754646301)</td>\n",
       "      <td>None</td>\n",
       "      <td>None</td>\n",
       "      <td>None</td>\n",
       "    </tr>\n",
       "    <tr>\n",
       "      <th>Bryce</th>\n",
       "      <td>(Kyle, 0.5833208560943604)</td>\n",
       "      <td>None</td>\n",
       "      <td>None</td>\n",
       "      <td>None</td>\n",
       "    </tr>\n",
       "  </tbody>\n",
       "</table>\n",
       "</div>"
      ],
      "text/plain": [
       "                                        0                             1     2  \\\n",
       "John                                 None                          None  None   \n",
       "Prathamesh  (Pritesh, 0.7546816468238831)  (Sanket, 0.7507660984992981)  None   \n",
       "Wenhui                               None                          None  None   \n",
       "Yilin       (Yiliang, 0.5568621754646301)                          None  None   \n",
       "Bryce          (Kyle, 0.5833208560943604)                          None  None   \n",
       "\n",
       "               3  \n",
       "John        None  \n",
       "Prathamesh  None  \n",
       "Wenhui      None  \n",
       "Yilin       None  \n",
       "Bryce       None  "
      ]
     },
     "execution_count": 116,
     "metadata": {},
     "output_type": "execute_result"
    }
   ],
   "source": [
    "import pandas as pd\n",
    "temp = pd.DataFrame.from_dict(fdc, orient=\"index\")\n",
    "temp.head()"
   ]
  },
  {
   "cell_type": "markdown",
   "metadata": {},
   "source": [
    "### Export data for R visualization"
   ]
  },
  {
   "cell_type": "code",
   "execution_count": 117,
   "metadata": {
    "collapsed": true
   },
   "outputs": [],
   "source": [
    "temp.to_csv(\"fuzzyRaw.csv\")"
   ]
  },
  {
   "cell_type": "markdown",
   "metadata": {},
   "source": [
    "## References\n",
    "\n",
    "1. Gensim documentation: https://radimrehurek.com/gensim/models/keyedvectors.html"
   ]
  }
 ],
 "metadata": {
  "kernelspec": {
   "display_name": "Python 3",
   "language": "python",
   "name": "python3"
  },
  "language_info": {
   "codemirror_mode": {
    "name": "ipython",
    "version": 3
   },
   "file_extension": ".py",
   "mimetype": "text/x-python",
   "name": "python",
   "nbconvert_exporter": "python",
   "pygments_lexer": "ipython3",
   "version": "3.6.3"
  }
 },
 "nbformat": 4,
 "nbformat_minor": 2
}
